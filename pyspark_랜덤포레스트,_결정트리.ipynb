{
  "nbformat": 4,
  "nbformat_minor": 0,
  "metadata": {
    "colab": {
      "name": "pyspark_랜덤포레스트, 결정트리.ipynb",
      "provenance": [],
      "collapsed_sections": [],
      "authorship_tag": "ABX9TyPtUCHOi1rLd1OiKisFgNjS",
      "include_colab_link": true
    },
    "kernelspec": {
      "name": "python3",
      "display_name": "Python 3"
    },
    "language_info": {
      "name": "python"
    }
  },
  "cells": [
    {
      "cell_type": "markdown",
      "metadata": {
        "id": "view-in-github",
        "colab_type": "text"
      },
      "source": [
        "<a href=\"https://colab.research.google.com/github/jinijinhee/delta/blob/main/pyspark_%EB%9E%9C%EB%8D%A4%ED%8F%AC%EB%A0%88%EC%8A%A4%ED%8A%B8%2C_%EA%B2%B0%EC%A0%95%ED%8A%B8%EB%A6%AC.ipynb\" target=\"_parent\"><img src=\"https://colab.research.google.com/assets/colab-badge.svg\" alt=\"Open In Colab\"/></a>"
      ]
    },
    {
      "cell_type": "code",
      "source": [
        "from google.colab import drive\n",
        "drive.mount('/content/drive/')"
      ],
      "metadata": {
        "colab": {
          "base_uri": "https://localhost:8080/"
        },
        "id": "lVNN3fe6mPwG",
        "outputId": "759879c1-2946-4720-c855-7286b56297b8"
      },
      "execution_count": 14,
      "outputs": [
        {
          "output_type": "stream",
          "name": "stdout",
          "text": [
            "Drive already mounted at /content/drive/; to attempt to forcibly remount, call drive.mount(\"/content/drive/\", force_remount=True).\n"
          ]
        }
      ]
    },
    {
      "cell_type": "code",
      "source": [
        "!pip install pyspark"
      ],
      "metadata": {
        "colab": {
          "base_uri": "https://localhost:8080/"
        },
        "id": "H3J2gnimmdb2",
        "outputId": "b6f38d45-b748-4f37-8ee5-3866b7c90be4"
      },
      "execution_count": 15,
      "outputs": [
        {
          "output_type": "stream",
          "name": "stdout",
          "text": [
            "Looking in indexes: https://pypi.org/simple, https://us-python.pkg.dev/colab-wheels/public/simple/\n",
            "Requirement already satisfied: pyspark in /usr/local/lib/python3.7/dist-packages (3.3.0)\n",
            "Requirement already satisfied: py4j==0.10.9.5 in /usr/local/lib/python3.7/dist-packages (from pyspark) (0.10.9.5)\n"
          ]
        }
      ]
    },
    {
      "cell_type": "code",
      "source": [
        "import pyspark as spark\n",
        "from pyspark.sql import SparkSession\n",
        "import numpy as np\n",
        "import pandas as pd\n",
        "import glob\n",
        "from pyspark import SparkContext\n",
        "from pyspark.sql import Row\n",
        "from pyspark.sql import SQLContext\n",
        "sc = SparkContext()\n",
        "sqlContext = SQLContext(sc)\n"
      ],
      "metadata": {
        "colab": {
          "base_uri": "https://localhost:8080/"
        },
        "id": "HdIOZpo5mgF6",
        "outputId": "b5fd635b-7742-47f6-fd55-94d6a15f244e"
      },
      "execution_count": null,
      "outputs": [
        {
          "output_type": "stream",
          "name": "stderr",
          "text": [
            "/usr/local/lib/python3.7/dist-packages/pyspark/sql/context.py:114: FutureWarning: Deprecated in 3.0.0. Use SparkSession.builder.getOrCreate() instead.\n",
            "  FutureWarning,\n"
          ]
        }
      ]
    },
    {
      "cell_type": "code",
      "execution_count": 16,
      "metadata": {
        "id": "cQL_M1--mJ2c"
      },
      "outputs": [],
      "source": [
        "df = pd.read_csv('./drive/MyDrive/df.csv')\n",
        "df.head()\n",
        "\n",
        "spark_df = sqlContext.createDataFrame(df)"
      ]
    },
    {
      "cell_type": "code",
      "source": [
        "from pyspark.ml.feature import VectorAssembler\n",
        "\n",
        "# 1. Train/Test 데이터로 분할\n",
        "train_df, test_df = spark_df.randomSplit(weights=[0.8, 0.2], seed=42)\n",
        "\n",
        "# 2. Feature Vector로 만들기\n",
        "ftr_columns = ['max_rpm','s20', 's30', 's40', 's50', 's60', 's70', 's80','s90','s100','s110', 's120','s130']\n",
        "vec_assembler = VectorAssembler(inputCols=ftr_columns, outputCol='features') #features에는 하나의 칼럼.\n",
        "\n",
        "train_ftr_vec = vec_assembler.transform(train_df)\n",
        "test_ftr_vec = vec_assembler.transform(test_df)  # 테스트 데이터에 대해도 동일한 객체 사용\n",
        "\n",
        "print('# 학습 원본 데이터:')\n",
        "train_df.limit(5).show()\n",
        "\n",
        "print('# Feature Vectorization 후 학습 데이터:')\n",
        "train_ftr_vec.limit(5).show()"
      ],
      "metadata": {
        "colab": {
          "base_uri": "https://localhost:8080/"
        },
        "id": "as2sO4-8m2se",
        "outputId": "48fb978d-d88c-4e3a-be7a-456d64d74129"
      },
      "execution_count": 25,
      "outputs": [
        {
          "output_type": "stream",
          "name": "stdout",
          "text": [
            "# 학습 원본 데이터:\n",
            "+-----+----------+-----------+----------+-----------+-----------+---+---+---+---+---+---+---+---+----+----+----+----+----+----+------------------------------+----+-------------+------------------+------------------+------------------+-------------------+-------------------+--------+------------------+-----------------+------+--------------------+--------------------+\n",
            "|index|     s_lat|      s_lng|     e_lat|      e_lng|    max_rpm|s20|s30|s40|s50|s60|s70|s80|s90|s100|s110|s120|s130|s140|s150|                          path| fee|duration(min)|     root_dist(km)|      med_est_dist|              diff|                pc1|                pc2|clusters|          time_sum|        avg_speed|target|                   s|                   e|\n",
            "+-----+----------+-----------+----------+-----------+-----------+---+---+---+---+---+---+---+---+----+----+----+----+----+----+------------------------------+----+-------------+------------------+------------------+------------------+-------------------+-------------------+--------+------------------+-----------------+------+--------------------+--------------------+\n",
            "|    9|   37.5595|126.8375516|37.5584083| 126.834615|     2055.3| 48| 49| 28|  0|  0|  0|  0|  0|   0|   0|   0|   0|   0|   0| 마곡중앙6로,마곡동로,공항대로|3800|            3|0.6950000000000001|1.1597222222222223|0.4647222222222222|-0.0235974375963648|-0.0154322030443821|       0|0.0347222222222222|             33.4|     3|[37.5595, 126.837...|[37.5584083, 126....|\n",
            "|   20|  37.55294|126.8264566|37.5583133| 126.834685|     2241.0| 42|  5| 35| 54|  0|  0|  0|  0|   0|   0|   0|   0|   0|   0|강서로47길,마곡중앙로,공항대로|3800|            4|               1.7| 1.602777777777778|0.0972222222222221|-0.0033093345265526|-0.0214765467635332|       0|0.0377777777777777| 42.4264705882353|     2|[37.55294, 126.82...|[37.5583133, 126....|\n",
            "|  201|37.5625483|  126.81001|  37.56564|126.8123016|       0.09| 20|  0|  0|  0|  0|  0|  0|  0|   0|   0|   0|   0|   0|   0| 방화동로,공항대로3길,방화동로|3800|            1|             0.432|0.1388888888888889|0.2931111111111111|-0.0494087212591336| 0.0058207705646544|       0|0.0055555555555555|             25.0|     4|[37.5625483, 126....|[37.56564, 126.81...|\n",
            "|  253|  37.57919|126.7995766|37.5739383|126.8059683|     2145.0| 68| 20|  8|  0|  6|  0|  0|  0|   0|   0|   0|   0|   0|   0|     개화동로,양천로,양천로1길|3800|            3|               1.2|             0.875|0.3249999999999999|-0.0193293861648753|-0.0127831105909071|       0|0.0283333333333333|30.88235294117647|     4|[37.57919, 126.79...|[37.5739383, 126....|\n",
            "|  357|37.5612483|126.8132683|37.5614133|126.8110466|2501.715576|  0|  0|  4|  0|  4|  0|  0|  0|   0|   0|   0|   0|   0|   0|       공항대로13길,공항대로,-|3800|            1|             0.211|0.1222222222222222|0.0887777777777777|-0.0512765219845973| 0.0046614647582822|       0|0.0022222222222222|54.99999999999999|     1|[37.5612483, 126....|[37.5614133, 126....|\n",
            "+-----+----------+-----------+----------+-----------+-----------+---+---+---+---+---+---+---+---+----+----+----+----+----+----+------------------------------+----+-------------+------------------+------------------+------------------+-------------------+-------------------+--------+------------------+-----------------+------+--------------------+--------------------+\n",
            "\n",
            "# Feature Vectorization 후 학습 데이터:\n",
            "+-----+----------+-----------+----------+-----------+-----------+---+---+---+---+---+---+---+---+----+----+----+----+----+----+------------------------------+----+-------------+------------------+------------------+------------------+-------------------+-------------------+--------+------------------+-----------------+------+--------------------+--------------------+--------------------+\n",
            "|index|     s_lat|      s_lng|     e_lat|      e_lng|    max_rpm|s20|s30|s40|s50|s60|s70|s80|s90|s100|s110|s120|s130|s140|s150|                          path| fee|duration(min)|     root_dist(km)|      med_est_dist|              diff|                pc1|                pc2|clusters|          time_sum|        avg_speed|target|                   s|                   e|            features|\n",
            "+-----+----------+-----------+----------+-----------+-----------+---+---+---+---+---+---+---+---+----+----+----+----+----+----+------------------------------+----+-------------+------------------+------------------+------------------+-------------------+-------------------+--------+------------------+-----------------+------+--------------------+--------------------+--------------------+\n",
            "|    9|   37.5595|126.8375516|37.5584083| 126.834615|     2055.3| 48| 49| 28|  0|  0|  0|  0|  0|   0|   0|   0|   0|   0|   0| 마곡중앙6로,마곡동로,공항대로|3800|            3|0.6950000000000001|1.1597222222222223|0.4647222222222222|-0.0235974375963648|-0.0154322030443821|       0|0.0347222222222222|             33.4|     3|[37.5595, 126.837...|[37.5584083, 126....|(13,[0,1,2,3],[20...|\n",
            "|   20|  37.55294|126.8264566|37.5583133| 126.834685|     2241.0| 42|  5| 35| 54|  0|  0|  0|  0|   0|   0|   0|   0|   0|   0|강서로47길,마곡중앙로,공항대로|3800|            4|               1.7| 1.602777777777778|0.0972222222222221|-0.0033093345265526|-0.0214765467635332|       0|0.0377777777777777| 42.4264705882353|     2|[37.55294, 126.82...|[37.5583133, 126....|(13,[0,1,2,3,4],[...|\n",
            "|  201|37.5625483|  126.81001|  37.56564|126.8123016|       0.09| 20|  0|  0|  0|  0|  0|  0|  0|   0|   0|   0|   0|   0|   0| 방화동로,공항대로3길,방화동로|3800|            1|             0.432|0.1388888888888889|0.2931111111111111|-0.0494087212591336| 0.0058207705646544|       0|0.0055555555555555|             25.0|     4|[37.5625483, 126....|[37.56564, 126.81...|(13,[0,1],[0.09,2...|\n",
            "|  253|  37.57919|126.7995766|37.5739383|126.8059683|     2145.0| 68| 20|  8|  0|  6|  0|  0|  0|   0|   0|   0|   0|   0|   0|     개화동로,양천로,양천로1길|3800|            3|               1.2|             0.875|0.3249999999999999|-0.0193293861648753|-0.0127831105909071|       0|0.0283333333333333|30.88235294117647|     4|[37.57919, 126.79...|[37.5739383, 126....|(13,[0,1,2,3,5],[...|\n",
            "|  357|37.5612483|126.8132683|37.5614133|126.8110466|2501.715576|  0|  0|  4|  0|  4|  0|  0|  0|   0|   0|   0|   0|   0|   0|       공항대로13길,공항대로,-|3800|            1|             0.211|0.1222222222222222|0.0887777777777777|-0.0512765219845973| 0.0046614647582822|       0|0.0022222222222222|54.99999999999999|     1|[37.5612483, 126....|[37.5614133, 126....|(13,[0,3,5],[2501...|\n",
            "+-----+----------+-----------+----------+-----------+-----------+---+---+---+---+---+---+---+---+----+----+----+----+----+----+------------------------------+----+-------------+------------------+------------------+------------------+-------------------+-------------------+--------+------------------+-----------------+------+--------------------+--------------------+--------------------+\n",
            "\n"
          ]
        }
      ]
    },
    {
      "cell_type": "markdown",
      "source": [
        "#랜덤포레스트"
      ],
      "metadata": {
        "id": "wyvLViotK9pg"
      }
    },
    {
      "cell_type": "code",
      "source": [
        "from pyspark.ml.classification import RandomForestClassifier\n",
        "\n",
        "# 모델 정의\n",
        "dt_clf = RandomForestClassifier(featuresCol='features', labelCol='target', numTrees=10)\n",
        "\n",
        "# 학습\n",
        "dt_model = dt_clf.fit(train_ftr_vec)\n",
        "\n",
        "# 학습, 테스트 데이터에 대해 예측\n",
        "train_pred = dt_model.transform(train_ftr_vec)\n",
        "test_pred = dt_model.transform(test_ftr_vec)"
      ],
      "metadata": {
        "id": "olBMNRHJpcQx"
      },
      "execution_count": 26,
      "outputs": []
    },
    {
      "cell_type": "code",
      "source": [
        "from pyspark.ml.evaluation import MulticlassClassificationEvaluator\n",
        "\n",
        "evaluator = MulticlassClassificationEvaluator(predictionCol='prediction', labelCol='target', metricName='accuracy')\n",
        "\n",
        "train_acc = evaluator.evaluate(train_pred)\n",
        "test_acc = evaluator.evaluate(test_pred)\n",
        "\n",
        "print('Train Accuracy:', train_acc)\n",
        "print('Test Accuracy:', test_acc)"
      ],
      "metadata": {
        "colab": {
          "base_uri": "https://localhost:8080/"
        },
        "id": "zEEdgc88qyU2",
        "outputId": "227a7608-67f3-4942-d19f-4c5795d5cbfb"
      },
      "execution_count": 27,
      "outputs": [
        {
          "output_type": "stream",
          "name": "stdout",
          "text": [
            "Train Accuracy: 0.868270332187858\n",
            "Test Accuracy: 0.8298969072164949\n"
          ]
        }
      ]
    },
    {
      "cell_type": "markdown",
      "source": [
        "#결정트리"
      ],
      "metadata": {
        "id": "B-w62CwQK6GU"
      }
    },
    {
      "cell_type": "code",
      "source": [
        "from pyspark.ml.classification import DecisionTreeClassifier\n",
        "\n",
        "# 모델 정의\n",
        "dt_clf = DecisionTreeClassifier(featuresCol='features', labelCol='target', maxDepth=5)\n",
        "\n",
        "# 학습\n",
        "dt_model = dt_clf.fit(train_ftr_vec)\n",
        "\n",
        "# 학습, 테스트 데이터에 대해 예측\n",
        "train_pred = dt_model.transform(train_ftr_vec)\n",
        "test_pred = dt_model.transform(test_ftr_vec)"
      ],
      "metadata": {
        "id": "R5eAq7HjyuBZ"
      },
      "execution_count": 30,
      "outputs": []
    },
    {
      "cell_type": "code",
      "source": [
        "from pyspark.ml.evaluation import MulticlassClassificationEvaluator\n",
        "\n",
        "evaluator = MulticlassClassificationEvaluator(predictionCol='prediction', labelCol='target', metricName='accuracy')\n",
        "\n",
        "train_acc = evaluator.evaluate(train_pred)\n",
        "test_acc = evaluator.evaluate(test_pred)\n",
        "\n",
        "print('Train Accuracy:', train_acc)\n",
        "print('Test Accuracy:', test_acc)"
      ],
      "metadata": {
        "colab": {
          "base_uri": "https://localhost:8080/"
        },
        "id": "PZIiHNfZLDHs",
        "outputId": "7d9cc5e6-79c1-4ce7-cfc8-5b5057f8c09e"
      },
      "execution_count": 31,
      "outputs": [
        {
          "output_type": "stream",
          "name": "stdout",
          "text": [
            "Train Accuracy: 0.8972890416189385\n",
            "Test Accuracy: 0.8316151202749141\n"
          ]
        }
      ]
    }
  ]
}