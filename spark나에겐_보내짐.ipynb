{
  "nbformat": 4,
  "nbformat_minor": 0,
  "metadata": {
    "colab": {
      "name": "spark나에겐 보내짐.ipynb",
      "provenance": [],
      "authorship_tag": "ABX9TyMfyb+v44bf+xa535p8dGE5",
      "include_colab_link": true
    },
    "kernelspec": {
      "name": "python3",
      "display_name": "Python 3"
    },
    "language_info": {
      "name": "python"
    }
  },
  "cells": [
    {
      "cell_type": "markdown",
      "metadata": {
        "id": "view-in-github",
        "colab_type": "text"
      },
      "source": [
        "<a href=\"https://colab.research.google.com/github/jinijinhee/delta/blob/main/spark%EB%82%98%EC%97%90%EA%B2%90_%EB%B3%B4%EB%82%B4%EC%A7%90.ipynb\" target=\"_parent\"><img src=\"https://colab.research.google.com/assets/colab-badge.svg\" alt=\"Open In Colab\"/></a>"
      ]
    },
    {
      "cell_type": "code",
      "execution_count": null,
      "metadata": {
        "id": "Mzw06w58nsox"
      },
      "outputs": [],
      "source": [
        "import time\n",
        "import socket\n",
        "\n",
        "URL = 'localhost'\n",
        "PORT = 1257\n",
        "\n",
        "sock = socket.socket(socket.AF_INET, socket.SOCK_STREAM)\n",
        "sock.bind((URL, PORT))\n",
        "sock.listen(1) #접속 허용 갯수\n"
      ]
    },
    {
      "cell_type": "code",
      "source": [
        "from socket import *\n",
        "clientSock = socket(AF_INET, SOCK_STREAM)\n",
        "\n",
        "clientSock.connect(('localhost', 1257))"
      ],
      "metadata": {
        "id": "OBBUywbtntb1"
      },
      "execution_count": null,
      "outputs": []
    },
    {
      "cell_type": "code",
      "source": [
        "conn, addr = sock.accept()\n",
        "\n",
        "with open('./drive/MyDrive/final_data.csv') as infile:\n",
        "  for line in infile.readlines():\n",
        "    print('sending line: ', line)\n",
        "    conn.send(line.encode())\n",
        "    time.sleep(0.3)\n",
        "\n",
        "conn.close()\n",
        "sock.close()"
      ],
      "metadata": {
        "id": "YeOUEdwWnwFB"
      },
      "execution_count": null,
      "outputs": []
    },
    {
      "cell_type": "code",
      "source": [],
      "metadata": {
        "id": "2ACE82aeoPDs"
      },
      "execution_count": null,
      "outputs": []
    }
  ]
}